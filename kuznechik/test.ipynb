{
 "cells": [
  {
   "cell_type": "code",
   "execution_count": 1,
   "metadata": {
    "collapsed": true
   },
   "outputs": [],
   "source": [
    "array_16 = ['0', '1', '2', '3', '4', '5', '6', '7', '8', '9', 'a', 'b', 'c', 'd', 'e', 'f']"
   ]
  },
  {
   "cell_type": "code",
   "execution_count": 2,
   "metadata": {
    "collapsed": true
   },
   "outputs": [],
   "source": [
    "array_2 = [\n",
    "    '0000',\n",
    "    '0001',\n",
    "    '0010',\n",
    "    '0011',\n",
    "    '0100',\n",
    "    '0101',\n",
    "    '0110',\n",
    "    '0111',\n",
    "    '1000',\n",
    "    '1001',\n",
    "    '1010',\n",
    "    '1011',\n",
    "    '1100',\n",
    "    '1101',\n",
    "    '1110',\n",
    "    '1111'\n",
    "]"
   ]
  },
  {
   "cell_type": "code",
   "execution_count": 3,
   "metadata": {
    "collapsed": true
   },
   "outputs": [],
   "source": [
    "def from_16_to_2(string):\n",
    "    map_dict = {\n",
    "        value_16: value_2\n",
    "        for value_2, value_16 in zip(array_2, array_16)\n",
    "    }\n",
    "    result = ''\n",
    "    for char in string:\n",
    "        result += map_dict[char]\n",
    "    return result"
   ]
  },
  {
   "cell_type": "code",
   "execution_count": 4,
   "metadata": {
    "collapsed": true
   },
   "outputs": [],
   "source": [
    "def from_2_to_16(string):\n",
    "    map_dict = {\n",
    "        value_2: value_16\n",
    "        for value_2, value_16 in zip(array_2, array_16)\n",
    "    }\n",
    "    result = ''\n",
    "    for i in range(0, len(string), 4):\n",
    "        result += map_dict[string[i:(i + 4)]]\n",
    "    return result"
   ]
  },
  {
   "cell_type": "code",
   "execution_count": 5,
   "metadata": {},
   "outputs": [
    {
     "data": {
      "text/plain": [
       "True"
      ]
     },
     "execution_count": 5,
     "metadata": {},
     "output_type": "execute_result"
    }
   ],
   "source": [
    "from_2_to_16(from_16_to_2('d456584dd0e3e84cc3166e4b7fa2890d')) == 'd456584dd0e3e84cc3166e4b7fa2890d'"
   ]
  },
  {
   "cell_type": "code",
   "execution_count": 6,
   "metadata": {
    "collapsed": true
   },
   "outputs": [],
   "source": [
    "def test(test, inp, out):\n",
    "    import subprocess\n",
    "    res = subprocess.check_output(\"./pi_test {} {}\".format(test, from_16_to_2(inp)), shell=True).decode(\"utf-8\")[:-1]\n",
    "    return (from_2_to_16(res) == out)"
   ]
  },
  {
   "cell_type": "code",
   "execution_count": 7,
   "metadata": {},
   "outputs": [
    {
     "name": "stdout",
     "output_type": "stream",
     "text": [
      "True\n",
      "True\n",
      "True\n",
      "True\n"
     ]
    }
   ],
   "source": [
    "print(test('R', '00000000000000000000000000000100', '94000000000000000000000000000001'))\n",
    "print(test('R', '94000000000000000000000000000001', 'a5940000000000000000000000000000'))\n",
    "print(test('R', 'a5940000000000000000000000000000', '64a59400000000000000000000000000'))\n",
    "print(test('R', '64a59400000000000000000000000000', '0d64a594000000000000000000000000'))"
   ]
  },
  {
   "cell_type": "code",
   "execution_count": 8,
   "metadata": {},
   "outputs": [
    {
     "name": "stdout",
     "output_type": "stream",
     "text": [
      "True\n",
      "True\n",
      "True\n",
      "True\n"
     ]
    }
   ],
   "source": [
    "print(test('L', '64a59400000000000000000000000000', 'd456584dd0e3e84cc3166e4b7fa2890d'))\n",
    "print(test('L', 'd456584dd0e3e84cc3166e4b7fa2890d', '79d26221b87b584cd42fbc4ffea5de9a'))\n",
    "print(test('L', '79d26221b87b584cd42fbc4ffea5de9a', '0e93691a0cfc60408b7b68f66b513c13'))\n",
    "print(test('L', '0e93691a0cfc60408b7b68f66b513c13', 'e6a8094fee0aa204fd97bcb0b44b8580'))"
   ]
  },
  {
   "cell_type": "code",
   "execution_count": null,
   "metadata": {
    "collapsed": true
   },
   "outputs": [],
   "source": []
  }
 ],
 "metadata": {
  "kernelspec": {
   "display_name": "Python 3",
   "language": "python",
   "name": "python3"
  },
  "language_info": {
   "codemirror_mode": {
    "name": "ipython",
    "version": 3
   },
   "file_extension": ".py",
   "mimetype": "text/x-python",
   "name": "python",
   "nbconvert_exporter": "python",
   "pygments_lexer": "ipython3",
   "version": "3.6.3"
  }
 },
 "nbformat": 4,
 "nbformat_minor": 2
}
