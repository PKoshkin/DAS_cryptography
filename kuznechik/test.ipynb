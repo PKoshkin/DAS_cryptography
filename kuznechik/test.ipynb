{
 "cells": [
  {
   "cell_type": "code",
   "execution_count": 1,
   "metadata": {
    "collapsed": true
   },
   "outputs": [],
   "source": [
    "import numpy as np"
   ]
  },
  {
   "cell_type": "code",
   "execution_count": 2,
   "metadata": {
    "collapsed": true
   },
   "outputs": [],
   "source": [
    "array_16 = ['0', '1', '2', '3', '4', '5', '6', '7', '8', '9', 'a', 'b', 'c', 'd', 'e', 'f']"
   ]
  },
  {
   "cell_type": "code",
   "execution_count": 3,
   "metadata": {
    "collapsed": true
   },
   "outputs": [],
   "source": [
    "array_2 = [\n",
    "    '0000',\n",
    "    '0001',\n",
    "    '0010',\n",
    "    '0011',\n",
    "    '0100',\n",
    "    '0101',\n",
    "    '0110',\n",
    "    '0111',\n",
    "    '1000',\n",
    "    '1001',\n",
    "    '1010',\n",
    "    '1011',\n",
    "    '1100',\n",
    "    '1101',\n",
    "    '1110',\n",
    "    '1111'\n",
    "]"
   ]
  },
  {
   "cell_type": "code",
   "execution_count": 4,
   "metadata": {
    "collapsed": true
   },
   "outputs": [],
   "source": [
    "def from_16_to_2(string):\n",
    "    map_dict = {\n",
    "        value_16: value_2\n",
    "        for value_2, value_16 in zip(array_2, array_16)\n",
    "    }\n",
    "    result = ''\n",
    "    for char in string:\n",
    "        result += map_dict[char]\n",
    "    return result"
   ]
  },
  {
   "cell_type": "code",
   "execution_count": 5,
   "metadata": {
    "collapsed": true
   },
   "outputs": [],
   "source": [
    "def from_2_to_16(string):\n",
    "    map_dict = {\n",
    "        value_2: value_16\n",
    "        for value_2, value_16 in zip(array_2, array_16)\n",
    "    }\n",
    "    result = ''\n",
    "    for i in range(0, len(string), 4):\n",
    "        result += map_dict[string[i:(i + 4)]]\n",
    "    return result"
   ]
  },
  {
   "cell_type": "code",
   "execution_count": 6,
   "metadata": {
    "collapsed": true
   },
   "outputs": [],
   "source": [
    "def test(test, inp=None, out=None):\n",
    "    import subprocess\n",
    "    if test in ['L', 'R']:\n",
    "        res = subprocess.check_output(\"./kuznechik {} {}\".format(test, from_16_to_2(inp)), shell=True).decode(\"utf-8\")[:-1]\n",
    "        res = from_2_to_16(res)\n",
    "        if res == out:\n",
    "            print(True)\n",
    "        else:\n",
    "            print(res)\n",
    "            print(out)\n",
    "    elif test == 'K':\n",
    "        res = subprocess.check_output(\"./kuznechik K {}\".format(from_16_to_2(inp)), shell=True).decode(\"utf-8\").split()        \n",
    "        res = [from_2_to_16(line) for line in res]\n",
    "        if res == out:\n",
    "            print(True)\n",
    "        else:\n",
    "            print(res)\n",
    "            print(out)\n",
    "    elif test == 'LSX':\n",
    "        res = subprocess.check_output(\"./kuznechik {} {} {}\".format(\n",
    "            test, from_16_to_2(inp[0]), from_16_to_2(inp[1])\n",
    "        ), shell=True).decode(\"utf-8\")[:-1]\n",
    "        res = from_2_to_16(res)\n",
    "        if res == out:\n",
    "            print(True)\n",
    "        else:\n",
    "            print(res)\n",
    "            print(out)\n",
    "    elif test == 'F':\n",
    "        res = subprocess.check_output(\"./kuznechik {} {} {} {}\".format(\n",
    "            test, from_16_to_2(inp[0]), from_16_to_2(inp[1]), from_16_to_2(inp[2])\n",
    "        ), shell=True).decode(\"utf-8\").split()\n",
    "        res = [from_2_to_16(line) for line in res]\n",
    "        if res == out:\n",
    "            print(True)\n",
    "        else:\n",
    "            print(res)\n",
    "            print(out)\n",
    "    elif test == 'encrypt':\n",
    "        res = subprocess.check_output(\"./kuznechik {} {} {}\".format(\n",
    "            test, from_16_to_2(inp[0]), from_16_to_2(inp[1])\n",
    "        ), shell=True).decode(\"utf-8\")[:-1]\n",
    "        res = from_2_to_16(res)\n",
    "        if res == out:\n",
    "            print(True)\n",
    "        else:\n",
    "            print(res)\n",
    "            print(out)\n",
    "    elif test == 'decrypt':\n",
    "        res = subprocess.check_output(\"./kuznechik {} {} {}\".format(\n",
    "            test, from_16_to_2(inp[0]), from_16_to_2(inp[1])\n",
    "        ), shell=True).decode(\"utf-8\")[:-1]\n",
    "        res = from_2_to_16(res)\n",
    "        if res == out:\n",
    "            print(True)\n",
    "        else:\n",
    "            print(res)\n",
    "            print(out)"
   ]
  },
  {
   "cell_type": "code",
   "execution_count": 7,
   "metadata": {},
   "outputs": [
    {
     "name": "stdout",
     "output_type": "stream",
     "text": [
      "00000000000000000000000000000001\n",
      "94000000000000000000000000000001\n",
      "00940000000000000000000000000000\n",
      "a5940000000000000000000000000000\n",
      "00a59400000000000000000000000000\n",
      "64a59400000000000000000000000000\n",
      "0064a594000000000000000000000000\n",
      "0d64a594000000000000000000000000\n"
     ]
    }
   ],
   "source": [
    "test('R', '00000000000000000000000000000100', '94000000000000000000000000000001')\n",
    "test('R', '94000000000000000000000000000001', 'a5940000000000000000000000000000')\n",
    "test('R', 'a5940000000000000000000000000000', '64a59400000000000000000000000000')\n",
    "test('R', '64a59400000000000000000000000000', '0d64a594000000000000000000000000')"
   ]
  },
  {
   "cell_type": "code",
   "execution_count": 8,
   "metadata": {},
   "outputs": [
    {
     "name": "stdout",
     "output_type": "stream",
     "text": [
      "00000000000000000000000000000000\n",
      "d456584dd0e3e84cc3166e4b7fa2890d\n",
      "00000000000000000000000000000000\n",
      "79d26221b87b584cd42fbc4ffea5de9a\n",
      "00000000000000000000000000000000\n",
      "0e93691a0cfc60408b7b68f66b513c13\n",
      "00000000000000000000000000000000\n",
      "e6a8094fee0aa204fd97bcb0b44b8580\n"
     ]
    }
   ],
   "source": [
    "test('L', '64a59400000000000000000000000000', 'd456584dd0e3e84cc3166e4b7fa2890d')\n",
    "test('L', 'd456584dd0e3e84cc3166e4b7fa2890d', '79d26221b87b584cd42fbc4ffea5de9a')\n",
    "test('L', '79d26221b87b584cd42fbc4ffea5de9a', '0e93691a0cfc60408b7b68f66b513c13')\n",
    "test('L', '0e93691a0cfc60408b7b68f66b513c13', 'e6a8094fee0aa204fd97bcb0b44b8580')"
   ]
  },
  {
   "cell_type": "code",
   "execution_count": 9,
   "metadata": {
    "collapsed": true
   },
   "outputs": [],
   "source": [
    "inp = '8899aabbccddeeff0011223344556677fedcba98765432100123456789abcdef'"
   ]
  },
  {
   "cell_type": "code",
   "execution_count": 10,
   "metadata": {
    "collapsed": true
   },
   "outputs": [],
   "source": [
    "keys = [\n",
    "    '8899aabbccddeeff0011223344556677',\n",
    "    'fedcba98765432100123456789abcdef',\n",
    "    'db31485315694343228d6aef8cc78c44',\n",
    "    '3d4553d8e9cfec6815ebadc40a9ffd04',\n",
    "    '57646468c44a5e28d3e59246f429f1ac',\n",
    "    'bd079435165c6432b532e82834da581b',\n",
    "    '51e640757e8745de705727265a0098b1',\n",
    "    '5a7925017b9fdd3ed72a91a22286f984',\n",
    "    'bb44e25378c73123a5f32f73cdb6e517',\n",
    "    '72e9dd7416bcf45b755dbaa88e4a4043'\n",
    "]"
   ]
  },
  {
   "cell_type": "code",
   "execution_count": 11,
   "metadata": {},
   "outputs": [
    {
     "name": "stdout",
     "output_type": "stream",
     "text": [
      "['8899aabbccddeeff0011223344556677', 'fedcba98765432100123456789abcdef', '8899aabbccddeeff0011223344556677', 'fedcba98765432100123456789abcdef', '8899aabbccddeeff0011223344556677', 'fedcba98765432100123456789abcdef', '8899aabbccddeeff0011223344556677', 'fedcba98765432100123456789abcdef', '8899aabbccddeeff0011223344556677', 'fedcba98765432100123456789abcdef']\n",
      "['8899aabbccddeeff0011223344556677', 'fedcba98765432100123456789abcdef', 'db31485315694343228d6aef8cc78c44', '3d4553d8e9cfec6815ebadc40a9ffd04', '57646468c44a5e28d3e59246f429f1ac', 'bd079435165c6432b532e82834da581b', '51e640757e8745de705727265a0098b1', '5a7925017b9fdd3ed72a91a22286f984', 'bb44e25378c73123a5f32f73cdb6e517', '72e9dd7416bcf45b755dbaa88e4a4043']\n"
     ]
    }
   ],
   "source": [
    "test('K', inp, keys)"
   ]
  },
  {
   "cell_type": "code",
   "execution_count": 12,
   "metadata": {
    "collapsed": true
   },
   "outputs": [],
   "source": [
    "constants = [\n",
    "    '6ea276726c487ab85d27bd10dd849401',\n",
    "    'dc87ece4d890f4b3ba4eb92079cbeb02',\n",
    "    'b2259a96b4d88e0be7690430a44f7f03',\n",
    "    '7bcd1b0b73e32ba5b79cb140f2551504',\n",
    "    '156f6d791fab511deabb0c502fd18105',\n",
    "    'a74af7efab73df160dd208608b9efe06',\n",
    "    'c9e8819dc73ba5ae50f5b570561a6a07',\n",
    "    'f6593616e6055689adfba18027aa2a08'\n",
    "]"
   ]
  },
  {
   "cell_type": "code",
   "execution_count": 13,
   "metadata": {},
   "outputs": [
    {
     "name": "stdout",
     "output_type": "stream",
     "text": [
      "00000000000000000000000000000000\n",
      "3d0940999db75d6a9257071d5e6144a6\n"
     ]
    }
   ],
   "source": [
    "test('LSX', ['6ea276726c487ab85d27bd10dd849401', '8899aabbccddeeff0011223344556677'], '3d0940999db75d6a9257071d5e6144a6')"
   ]
  },
  {
   "cell_type": "code",
   "execution_count": 14,
   "metadata": {},
   "outputs": [
    {
     "name": "stdout",
     "output_type": "stream",
     "text": [
      "['fedcba98765432100123456789abcdef', '8899aabbccddeeff0011223344556677']\n",
      "['c3d5fa01ebe36f7a9374427ad7ca8949', '8899aabbccddeeff0011223344556677']\n",
      "['8899aabbccddeeff0011223344556677', 'c3d5fa01ebe36f7a9374427ad7ca8949']\n",
      "['37777748e56453377d5e262d90903f87', 'c3d5fa01ebe36f7a9374427ad7ca8949']\n"
     ]
    }
   ],
   "source": [
    "test('F', [\n",
    "    '6ea276726c487ab85d27bd10dd849401', '8899aabbccddeeff0011223344556677', 'fedcba98765432100123456789abcdef'\n",
    "], [\n",
    "    'c3d5fa01ebe36f7a9374427ad7ca8949', '8899aabbccddeeff0011223344556677'\n",
    "])\n",
    "test('F', [\n",
    "    'dc87ece4d890f4b3ba4eb92079cbeb02', 'c3d5fa01ebe36f7a9374427ad7ca8949', '8899aabbccddeeff0011223344556677'\n",
    "], [\n",
    "    '37777748e56453377d5e262d90903f87', 'c3d5fa01ebe36f7a9374427ad7ca8949'\n",
    "])"
   ]
  },
  {
   "cell_type": "code",
   "execution_count": 15,
   "metadata": {},
   "outputs": [
    {
     "name": "stdout",
     "output_type": "stream",
     "text": [
      "fedcba98765432100123456789abcdef\n",
      "7f679d90bebc24305a468d42b9d4edcd\n"
     ]
    }
   ],
   "source": [
    "test('encrypt', [\n",
    "    '8899aabbccddeeff0011223344556677fedcba98765432100123456789abcdef',\n",
    "    '1122334455667700ffeeddccbbaa9988'\n",
    "],\n",
    "     '7f679d90bebc24305a468d42b9d4edcd'\n",
    ")"
   ]
  },
  {
   "cell_type": "code",
   "execution_count": 16,
   "metadata": {},
   "outputs": [
    {
     "name": "stdout",
     "output_type": "stream",
     "text": [
      "2d3c0f1e69784b5aa5b48796e1f0c3d2\n",
      "1122334455667700ffeeddccbbaa9988\n"
     ]
    }
   ],
   "source": [
    "test('decrypt', [\n",
    "    '8899aabbccddeeff0011223344556677fedcba98765432100123456789abcdef',\n",
    "    '7f679d90bebc24305a468d42b9d4edcd'\n",
    "],\n",
    "     '1122334455667700ffeeddccbbaa9988'\n",
    ")"
   ]
  },
  {
   "cell_type": "code",
   "execution_count": 17,
   "metadata": {
    "collapsed": true
   },
   "outputs": [],
   "source": [
    "def L(block):\n",
    "    import subprocess\n",
    "    return from_2_to_16(\n",
    "        subprocess.check_output(\"./kuznechik L {}\".format(\n",
    "            from_16_to_2(block)\n",
    "        ), shell=True).decode(\"utf-8\")[:-1]\n",
    "    )\n",
    "\n",
    "def S(block):\n",
    "    import subprocess\n",
    "    return from_2_to_16(\n",
    "        subprocess.check_output(\"./kuznechik S {}\".format(\n",
    "            from_16_to_2(block)\n",
    "        ), shell=True).decode(\"utf-8\")[:-1]\n",
    "    )\n",
    "\n",
    "def X(key, block):\n",
    "    import subprocess\n",
    "    return from_2_to_16(\n",
    "        subprocess.check_output(\"./kuznechik X {} {}\".format(\n",
    "            from_16_to_2(key), from_16_to_2(block)\n",
    "        ), shell=True).decode(\"utf-8\")[:-1]\n",
    "    )\n",
    "\n",
    "def LSX(key, block):\n",
    "    import subprocess\n",
    "    return from_2_to_16(\n",
    "        subprocess.check_output(\"./kuznechik LSX {} {}\".format(\n",
    "            from_16_to_2(key), from_16_to_2(block)\n",
    "        ), shell=True).decode(\"utf-8\")[:-1]\n",
    "    )\n",
    "\n",
    "def encrypt(key, block):\n",
    "    import subprocess\n",
    "    return from_2_to_16(\n",
    "        subprocess.check_output(\"./kuznechik encrypt {} {}\".format(\n",
    "            from_16_to_2(key), from_16_to_2(block)\n",
    "        ), shell=True).decode(\"utf-8\")[:-1]\n",
    "    )\n",
    "\n",
    "def decrypt(key, block):\n",
    "    import subprocess\n",
    "    return from_2_to_16(\n",
    "        subprocess.check_output(\"./kuznechik decrypt {} {}\".format(\n",
    "            from_16_to_2(key), from_16_to_2(block)\n",
    "        ), shell=True).decode(\"utf-8\")[:-1]\n",
    "    )"
   ]
  },
  {
   "cell_type": "code",
   "execution_count": 18,
   "metadata": {},
   "outputs": [
    {
     "data": {
      "text/plain": [
       "'99bb99ff99bb99ffffffffffffffffff'"
      ]
     },
     "execution_count": 18,
     "metadata": {},
     "output_type": "execute_result"
    }
   ],
   "source": [
    "X('8899aabbccddeeff0011223344556677', '1122334455667700ffeeddccbbaa9988')"
   ]
  },
  {
   "cell_type": "code",
   "execution_count": 19,
   "metadata": {},
   "outputs": [
    {
     "data": {
      "text/plain": [
       "'e87de8b6e87de8b6b6b6b6b6b6b6b6b6'"
      ]
     },
     "execution_count": 19,
     "metadata": {},
     "output_type": "execute_result"
    }
   ],
   "source": [
    "S('99bb99ff99bb99ffffffffffffffffff')"
   ]
  },
  {
   "cell_type": "code",
   "execution_count": 20,
   "metadata": {},
   "outputs": [
    {
     "data": {
      "text/plain": [
       "'00000000000000000000000000000000'"
      ]
     },
     "execution_count": 20,
     "metadata": {},
     "output_type": "execute_result"
    }
   ],
   "source": [
    "L('e87de8b6e87de8b6b6b6b6b6b6b6b6b6')"
   ]
  },
  {
   "cell_type": "code",
   "execution_count": 21,
   "metadata": {},
   "outputs": [
    {
     "data": {
      "text/plain": [
       "'00000000000000000000000000000000'"
      ]
     },
     "execution_count": 21,
     "metadata": {},
     "output_type": "execute_result"
    }
   ],
   "source": [
    "LSX('8899aabbccddeeff0011223344556677', '1122334455667700ffeeddccbbaa9988')"
   ]
  },
  {
   "cell_type": "code",
   "execution_count": 22,
   "metadata": {},
   "outputs": [
    {
     "data": {
      "text/plain": [
       "'fedcba98765432100123456789abcdef'"
      ]
     },
     "execution_count": 22,
     "metadata": {},
     "output_type": "execute_result"
    }
   ],
   "source": [
    "encrypt('8899aabbccddeeff0011223344556677fedcba98765432100123456789abcdef', '1122334455667700ffeeddccbbaa9988')"
   ]
  },
  {
   "cell_type": "code",
   "execution_count": 23,
   "metadata": {},
   "outputs": [
    {
     "data": {
      "text/plain": [
       "'2d3c0f1e69784b5aa5b48796e1f0c3d2'"
      ]
     },
     "execution_count": 23,
     "metadata": {},
     "output_type": "execute_result"
    }
   ],
   "source": [
    "decrypt('8899aabbccddeeff0011223344556677fedcba98765432100123456789abcdef', '7f679d90bebc24305a468d42b9d4edcd')"
   ]
  },
  {
   "cell_type": "code",
   "execution_count": null,
   "metadata": {
    "collapsed": true
   },
   "outputs": [],
   "source": []
  }
 ],
 "metadata": {
  "kernelspec": {
   "display_name": "Python 3",
   "language": "python",
   "name": "python3"
  },
  "language_info": {
   "codemirror_mode": {
    "name": "ipython",
    "version": 3
   },
   "file_extension": ".py",
   "mimetype": "text/x-python",
   "name": "python",
   "nbconvert_exporter": "python",
   "pygments_lexer": "ipython3",
   "version": "3.6.3"
  }
 },
 "nbformat": 4,
 "nbformat_minor": 2
}
