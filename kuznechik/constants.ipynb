{
 "cells": [
  {
   "cell_type": "code",
   "execution_count": 1,
   "metadata": {
    "collapsed": true
   },
   "outputs": [],
   "source": [
    "from kuznechik import *"
   ]
  },
  {
   "cell_type": "code",
   "execution_count": 2,
   "metadata": {
    "collapsed": true
   },
   "outputs": [],
   "source": [
    "def save_constants(filename):\n",
    "    with open(filename, \"w\") as write_file:\n",
    "        constants = []\n",
    "        for i in range(1, 33):\n",
    "            input_string = str(bin(i))[2:]\n",
    "            input_string = \"0\" * (128 - len(input_string)) + input_string\n",
    "            constant = L(from_2_to_16(input_string))\n",
    "            constant = [\n",
    "                str(int(constant[i:(i + 2)], 16)) for i in range(0, 32, 2)\n",
    "            ]\n",
    "            print(\" \".join(constant), file=write_file)"
   ]
  },
  {
   "cell_type": "code",
   "execution_count": 3,
   "metadata": {
    "collapsed": true
   },
   "outputs": [],
   "source": [
    "save_constants('constants.txt')"
   ]
  },
  {
   "cell_type": "code",
   "execution_count": null,
   "metadata": {
    "collapsed": true
   },
   "outputs": [],
   "source": [
    "    "
   ]
  }
 ],
 "metadata": {
  "kernelspec": {
   "display_name": "Python 3",
   "language": "python",
   "name": "python3"
  },
  "language_info": {
   "codemirror_mode": {
    "name": "ipython",
    "version": 3
   },
   "file_extension": ".py",
   "mimetype": "text/x-python",
   "name": "python",
   "nbconvert_exporter": "python",
   "pygments_lexer": "ipython3",
   "version": "3.6.3"
  }
 },
 "nbformat": 4,
 "nbformat_minor": 2
}
