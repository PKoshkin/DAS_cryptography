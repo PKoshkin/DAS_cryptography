{
 "cells": [
  {
   "cell_type": "code",
   "execution_count": 1,
   "metadata": {
    "collapsed": true
   },
   "outputs": [],
   "source": [
    "from kuznechik import *\n",
    "import numpy as np"
   ]
  },
  {
   "cell_type": "code",
   "execution_count": 2,
   "metadata": {
    "collapsed": true
   },
   "outputs": [],
   "source": [
    "def get_L_matrix():\n",
    "    result_matrix = np.zeros((16, 16))\n",
    "    for i in range(16):\n",
    "        input_block = [0 for i in range(16)]\n",
    "        input_block[i] = 1\n",
    "        output = from_16_to_array(L(from_array_to_16(input_block)))\n",
    "        result_matrix.T[i] += np.array(output)\n",
    "    return result_matrix"
   ]
  },
  {
   "cell_type": "code",
   "execution_count": 3,
   "metadata": {},
   "outputs": [],
   "source": [
    "L_matrix = get_L_matrix()"
   ]
  },
  {
   "cell_type": "code",
   "execution_count": 4,
   "metadata": {
    "collapsed": true
   },
   "outputs": [],
   "source": [
    "with open(\"L_matrix.txt\", \"w\") as write_file:\n",
    "    for line in L_matrix:\n",
    "        print(' '.join(list(map(str, map(int, line)))), file=write_file)"
   ]
  },
  {
   "cell_type": "code",
   "execution_count": 5,
   "metadata": {},
   "outputs": [],
   "source": [
    "def get_L_inverse_matrix():\n",
    "    result_matrix = np.zeros((16, 16))\n",
    "    for i in range(16):\n",
    "        input_block = [0 for i in range(16)]\n",
    "        input_block[i] = 1\n",
    "        output = from_16_to_array(L_inverse(from_array_to_16(input_block)))\n",
    "        result_matrix.T[i] += np.array(output)\n",
    "    return result_matrix"
   ]
  },
  {
   "cell_type": "code",
   "execution_count": 6,
   "metadata": {},
   "outputs": [],
   "source": [
    "L_inverse_matrix = get_L_inverse_matrix()"
   ]
  },
  {
   "cell_type": "code",
   "execution_count": 7,
   "metadata": {
    "collapsed": true
   },
   "outputs": [],
   "source": [
    "with open(\"L_inverse_matrix.txt\", \"w\") as write_file:\n",
    "    for line in L_inverse_matrix:\n",
    "        print(' '.join(list(map(str, map(int, line)))), file=write_file)"
   ]
  },
  {
   "cell_type": "code",
   "execution_count": null,
   "metadata": {
    "collapsed": true
   },
   "outputs": [],
   "source": []
  }
 ],
 "metadata": {
  "kernelspec": {
   "display_name": "Python 3",
   "language": "python",
   "name": "python3"
  },
  "language_info": {
   "codemirror_mode": {
    "name": "ipython",
    "version": 3
   },
   "file_extension": ".py",
   "mimetype": "text/x-python",
   "name": "python",
   "nbconvert_exporter": "python",
   "pygments_lexer": "ipython3",
   "version": "3.6.3"
  }
 },
 "nbformat": 4,
 "nbformat_minor": 2
}
