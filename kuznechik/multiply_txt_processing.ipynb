{
 "cells": [
  {
   "cell_type": "code",
   "execution_count": 1,
   "metadata": {
    "collapsed": true
   },
   "outputs": [],
   "source": [
    "def multuply(a, b):\n",
    "    import subprocess\n",
    "    return int(subprocess.check_output(\"./kuznechik multiply {} {}\".format(\n",
    "        a, b\n",
    "    ), shell=True).decode(\"utf-8\")[:-1])"
   ]
  },
  {
   "cell_type": "code",
   "execution_count": 2,
   "metadata": {
    "collapsed": true
   },
   "outputs": [],
   "source": [
    "numbers = [1, 148, 32, 133, 16, 194, 192, 1, 251, 1, 192, 194, 16, 133, 32, 148]"
   ]
  },
  {
   "cell_type": "code",
   "execution_count": 3,
   "metadata": {},
   "outputs": [],
   "source": [
    "def get_muliply_map(numbers):\n",
    "    result = []\n",
    "    for number in sorted(list(numbers)):\n",
    "        result.append([\n",
    "            multuply(i, number) for i in range(256)\n",
    "        ])\n",
    "    return result"
   ]
  },
  {
   "cell_type": "code",
   "execution_count": 4,
   "metadata": {},
   "outputs": [],
   "source": [
    "multiply_map = get_muliply_map(set(numbers))"
   ]
  },
  {
   "cell_type": "code",
   "execution_count": 5,
   "metadata": {
    "collapsed": true
   },
   "outputs": [],
   "source": [
    "def save(file_name, in_map):\n",
    "    with open(file_name, \"w\") as write_file:\n",
    "        for array in in_map:\n",
    "            line = \"\"\n",
    "            for number in array:\n",
    "                line += str(number) + \", \"\n",
    "            line = line[:-2]\n",
    "            print(line, file=write_file)"
   ]
  },
  {
   "cell_type": "code",
   "execution_count": 6,
   "metadata": {
    "collapsed": true
   },
   "outputs": [],
   "source": [
    "save('multiply_map.txt', multiply_map)"
   ]
  },
  {
   "cell_type": "code",
   "execution_count": 7,
   "metadata": {
    "collapsed": true
   },
   "outputs": [],
   "source": [
    "index_map = [[\n",
    "    0 for i in range(256)\n",
    "]]"
   ]
  },
  {
   "cell_type": "code",
   "execution_count": 8,
   "metadata": {},
   "outputs": [],
   "source": [
    "for i, number in enumerate(sorted(list(set(numbers)))):\n",
    "    index_map[0][number] = i"
   ]
  },
  {
   "cell_type": "code",
   "execution_count": 9,
   "metadata": {},
   "outputs": [],
   "source": [
    "save('index_map.txt', index_map)"
   ]
  },
  {
   "cell_type": "code",
   "execution_count": null,
   "metadata": {},
   "outputs": [],
   "source": [
    "def generate_mulyiply_code(multiply_map, index_map, filename):\n",
    "    with open(filename, \"w\") as write_file:\n",
    "        print(\"unsigned short multiply(const unsigned short polynom_1, const unsigned short polynom_2) {\", file=write_file)\n",
    "        print(\"    unsigned short index_map[256] = {\", file=write_file)\n",
    "        print(\"        \" + ', '.join([str(elem) for elem in index_map[0]]), file=write_file)\n",
    "        print(\"    };\", file=write_file)\n",
    "        print(\"    unsigned short result_map[8][256];\", file=write_file)\n",
    "        for i in range(len(multiply_map)):\n",
    "            for j in range(len(multiply_map[i])):\n",
    "                print(\"    result_map[{}][{}] = {};\".format(i, j, multiply_map[i][j]), file=write_file)\n",
    "        print(\"    return result_map[index_map[polynom_1]][polynom_2];\", file=write_file)\n",
    "        print(\"}\", file=write_file)"
   ]
  },
  {
   "cell_type": "code",
   "execution_count": null,
   "metadata": {},
   "outputs": [],
   "source": [
    "generate_mulyiply_code(multiply_map, index_map, \"multiply.cpp\")"
   ]
  },
  {
   "cell_type": "code",
   "execution_count": null,
   "metadata": {
    "collapsed": true
   },
   "outputs": [],
   "source": []
  },
  {
   "cell_type": "code",
   "execution_count": null,
   "metadata": {
    "collapsed": true
   },
   "outputs": [],
   "source": []
  }
 ],
 "metadata": {
  "kernelspec": {
   "display_name": "Python 3",
   "language": "python",
   "name": "python3"
  },
  "language_info": {
   "codemirror_mode": {
    "name": "ipython",
    "version": 3
   },
   "file_extension": ".py",
   "mimetype": "text/x-python",
   "name": "python",
   "nbconvert_exporter": "python",
   "pygments_lexer": "ipython3",
   "version": "3.6.3"
  }
 },
 "nbformat": 4,
 "nbformat_minor": 2
}
