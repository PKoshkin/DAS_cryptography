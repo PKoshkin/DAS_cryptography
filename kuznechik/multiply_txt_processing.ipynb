{
 "cells": [
  {
   "cell_type": "code",
   "execution_count": 1,
   "metadata": {
    "collapsed": true
   },
   "outputs": [],
   "source": [
    "def multuply(a, b):\n",
    "    import subprocess\n",
    "    return int(subprocess.check_output(\"./kuznechik multiply {} {}\".format(\n",
    "        a, b\n",
    "    ), shell=True).decode(\"utf-8\")[:-1])\n",
    "\n",
    "def fast_multuply(a, b):\n",
    "    import subprocess\n",
    "    return int(subprocess.check_output(\"./kuznechik fast_multiply {} {}\".format(\n",
    "        a, b\n",
    "    ), shell=True).decode(\"utf-8\")[:-1])"
   ]
  },
  {
   "cell_type": "code",
   "execution_count": 2,
   "metadata": {
    "collapsed": true
   },
   "outputs": [],
   "source": [
    "def get_muliply_map(numbers):\n",
    "    result = []\n",
    "    for number in numbers:\n",
    "        result.append([\n",
    "            multuply(i, number) for i in range(256)\n",
    "        ])\n",
    "    return result"
   ]
  },
  {
   "cell_type": "code",
   "execution_count": 3,
   "metadata": {
    "collapsed": true
   },
   "outputs": [],
   "source": [
    "multiply_map = get_muliply_map(list(range(256)))"
   ]
  },
  {
   "cell_type": "code",
   "execution_count": 4,
   "metadata": {
    "collapsed": true
   },
   "outputs": [],
   "source": [
    "def save(file_name, in_map):\n",
    "    with open(file_name, \"w\") as write_file:\n",
    "        for array in in_map:\n",
    "            line = \"\"\n",
    "            for number in array:\n",
    "                line += str(number) + \" \"\n",
    "            line = line[:-1]\n",
    "            print(line, file=write_file)"
   ]
  },
  {
   "cell_type": "code",
   "execution_count": 5,
   "metadata": {
    "collapsed": true
   },
   "outputs": [],
   "source": [
    "save('multiply_map.txt', multiply_map)"
   ]
  },
  {
   "cell_type": "code",
   "execution_count": null,
   "metadata": {
    "collapsed": true
   },
   "outputs": [],
   "source": []
  }
 ],
 "metadata": {
  "kernelspec": {
   "display_name": "Python 3",
   "language": "python",
   "name": "python3"
  },
  "language_info": {
   "codemirror_mode": {
    "name": "ipython",
    "version": 3
   },
   "file_extension": ".py",
   "mimetype": "text/x-python",
   "name": "python",
   "nbconvert_exporter": "python",
   "pygments_lexer": "ipython3",
   "version": "3.6.3"
  }
 },
 "nbformat": 4,
 "nbformat_minor": 2
}
